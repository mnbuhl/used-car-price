{
 "cells": [
  {
   "cell_type": "markdown",
   "metadata": {},
   "source": [
    "# Final Validation of the selected model\n",
    "\n",
    "Here the final validation and visualization of the selected model is performed."
   ]
  },
  {
   "cell_type": "markdown",
   "metadata": {},
   "source": [
    "### Importing the standard libraries"
   ]
  },
  {
   "cell_type": "code",
   "execution_count": 17,
   "metadata": {},
   "outputs": [],
   "source": [
    "import numpy as np\n",
    "import pandas as pd"
   ]
  },
  {
   "cell_type": "markdown",
   "metadata": {},
   "source": [
    "### Importing the dataset"
   ]
  },
  {
   "cell_type": "code",
   "execution_count": 18,
   "metadata": {},
   "outputs": [
    {
     "data": {
      "text/html": [
       "<div>\n",
       "<style scoped>\n",
       "    .dataframe tbody tr th:only-of-type {\n",
       "        vertical-align: middle;\n",
       "    }\n",
       "\n",
       "    .dataframe tbody tr th {\n",
       "        vertical-align: top;\n",
       "    }\n",
       "\n",
       "    .dataframe thead th {\n",
       "        text-align: right;\n",
       "    }\n",
       "</style>\n",
       "<table border=\"1\" class=\"dataframe\">\n",
       "  <thead>\n",
       "    <tr style=\"text-align: right;\">\n",
       "      <th></th>\n",
       "      <th>km_driven</th>\n",
       "      <th>seats</th>\n",
       "      <th>mileage</th>\n",
       "      <th>engine</th>\n",
       "      <th>max_power</th>\n",
       "      <th>nm</th>\n",
       "      <th>selling_price</th>\n",
       "      <th>fuel</th>\n",
       "    </tr>\n",
       "  </thead>\n",
       "  <tbody>\n",
       "    <tr>\n",
       "      <th>0</th>\n",
       "      <td>145500</td>\n",
       "      <td>5.0</td>\n",
       "      <td>23.40</td>\n",
       "      <td>1248</td>\n",
       "      <td>74.00</td>\n",
       "      <td>190.00</td>\n",
       "      <td>450000</td>\n",
       "      <td>0</td>\n",
       "    </tr>\n",
       "    <tr>\n",
       "      <th>1</th>\n",
       "      <td>120000</td>\n",
       "      <td>5.0</td>\n",
       "      <td>21.14</td>\n",
       "      <td>1498</td>\n",
       "      <td>103.52</td>\n",
       "      <td>250.00</td>\n",
       "      <td>370000</td>\n",
       "      <td>0</td>\n",
       "    </tr>\n",
       "    <tr>\n",
       "      <th>2</th>\n",
       "      <td>140000</td>\n",
       "      <td>5.0</td>\n",
       "      <td>17.70</td>\n",
       "      <td>1497</td>\n",
       "      <td>78.00</td>\n",
       "      <td>124.54</td>\n",
       "      <td>158000</td>\n",
       "      <td>1</td>\n",
       "    </tr>\n",
       "    <tr>\n",
       "      <th>3</th>\n",
       "      <td>127000</td>\n",
       "      <td>5.0</td>\n",
       "      <td>23.00</td>\n",
       "      <td>1396</td>\n",
       "      <td>90.00</td>\n",
       "      <td>219.67</td>\n",
       "      <td>225000</td>\n",
       "      <td>0</td>\n",
       "    </tr>\n",
       "    <tr>\n",
       "      <th>4</th>\n",
       "      <td>120000</td>\n",
       "      <td>5.0</td>\n",
       "      <td>16.10</td>\n",
       "      <td>1298</td>\n",
       "      <td>88.20</td>\n",
       "      <td>112.78</td>\n",
       "      <td>130000</td>\n",
       "      <td>1</td>\n",
       "    </tr>\n",
       "  </tbody>\n",
       "</table>\n",
       "</div>"
      ],
      "text/plain": [
       "   km_driven  seats  mileage  engine  max_power      nm  selling_price  fuel\n",
       "0     145500    5.0    23.40    1248      74.00  190.00         450000     0\n",
       "1     120000    5.0    21.14    1498     103.52  250.00         370000     0\n",
       "2     140000    5.0    17.70    1497      78.00  124.54         158000     1\n",
       "3     127000    5.0    23.00    1396      90.00  219.67         225000     0\n",
       "4     120000    5.0    16.10    1298      88.20  112.78         130000     1"
      ]
     },
     "execution_count": 18,
     "metadata": {},
     "output_type": "execute_result"
    }
   ],
   "source": [
    "dataset = pd.read_csv('../assets/car-details-for-ml-fuel-types.csv')\n",
    "\n",
    "dataset.head()"
   ]
  },
  {
   "cell_type": "markdown",
   "metadata": {},
   "source": [
    "### Splitting the dataset into the Training and Test set"
   ]
  },
  {
   "cell_type": "code",
   "execution_count": 19,
   "metadata": {},
   "outputs": [],
   "source": [
    "X = dataset.iloc[:, :-1].values\n",
    "y = dataset.iloc[:, -1].values"
   ]
  },
  {
   "cell_type": "code",
   "execution_count": 20,
   "metadata": {},
   "outputs": [],
   "source": [
    "from sklearn.model_selection import train_test_split\n",
    "\n",
    "X_train, X_test, y_train, y_test = train_test_split(X, y, test_size=0.2, shuffle=True, random_state=73)"
   ]
  },
  {
   "cell_type": "markdown",
   "metadata": {},
   "source": [
    "### Feature scaling the data\n",
    "\n",
    "The artificial neural network requires feature scaled data."
   ]
  },
  {
   "cell_type": "code",
   "execution_count": 21,
   "metadata": {},
   "outputs": [
    {
     "name": "stdout",
     "output_type": "stream",
     "text": [
      "[[-0.23 -0.45  0.59 -0.9  -0.7  -0.98 -0.64]]\n",
      "[[-1.02 -0.45 -0.38  1.05  3.04  2.62  5.11]]\n"
     ]
    }
   ],
   "source": [
    "from sklearn.preprocessing import StandardScaler\n",
    "\n",
    "std_scaler = StandardScaler()\n",
    "\n",
    "X_train_scaled = std_scaler.fit_transform(X_train)\n",
    "X_test_scaled = std_scaler.transform(X_test)\n",
    "\n",
    "# Sample the scaled values\n",
    "print(X_train_scaled[:1, :12])\n",
    "print(X_test_scaled[:1, :12])"
   ]
  },
  {
   "cell_type": "markdown",
   "metadata": {},
   "source": [
    "## Artificial Neural Network Classification"
   ]
  },
  {
   "cell_type": "markdown",
   "metadata": {},
   "source": [
    "Let's import the model from the model selection notebook, since it is the model I will use for the final validation."
   ]
  },
  {
   "cell_type": "code",
   "execution_count": 22,
   "metadata": {},
   "outputs": [],
   "source": [
    "from tensorflow.python.keras.api import keras\n",
    "\n",
    "ann_class = keras.models.load_model('../assets/ann_class.h5')"
   ]
  },
  {
   "cell_type": "markdown",
   "metadata": {},
   "source": [
    "Let's see if the model is working as expected."
   ]
  },
  {
   "cell_type": "code",
   "execution_count": 23,
   "metadata": {},
   "outputs": [
    {
     "name": "stdout",
     "output_type": "stream",
     "text": [
      "['Actual', 'Predictions']\n",
      "[[0 0]\n",
      " [0 0]\n",
      " [1 1]\n",
      " [1 1]\n",
      " [0 0]\n",
      " [1 1]\n",
      " [1 1]\n",
      " [0 0]]\n"
     ]
    }
   ],
   "source": [
    "y_pred = ann_class.predict(X_test_scaled)\n",
    "y_pred = (y_pred > 0.5)\n",
    "\n",
    "np.set_printoptions(precision=2)\n",
    "actual_vs_pred = np.concatenate((y_test.reshape(len(y_test), 1), y_pred.reshape(len(y_pred), 1)), 1)\n",
    "\n",
    "print([\"Actual\", \"Predictions\"])\n",
    "print(actual_vs_pred[4:12])"
   ]
  },
  {
   "cell_type": "code",
   "execution_count": 24,
   "metadata": {},
   "outputs": [
    {
     "name": "stdout",
     "output_type": "stream",
     "text": [
      "Accuracy:  1.0\n",
      "Confusion Matrix: \n",
      " [[866   0]\n",
      " [  0 668]]\n"
     ]
    }
   ],
   "source": [
    "from sklearn.metrics import confusion_matrix, accuracy_score\n",
    "\n",
    "accuracy = accuracy_score(y_test, y_pred)\n",
    "cm = confusion_matrix(y_test, y_pred)\n",
    "\n",
    "print(\"Accuracy: \", accuracy)\n",
    "print(\"Confusion Matrix: \\n\", cm)"
   ]
  },
  {
   "cell_type": "markdown",
   "metadata": {},
   "source": [
    "Perfect. The model still performs like it should. Let's see if the model performs well on real world data."
   ]
  },
  {
   "cell_type": "markdown",
   "metadata": {},
   "source": [
    "## Trying real world data\n",
    "\n",
    "Even though the model is based on real world data, it's still a good idea to test it on something that you find yourself. Let's try to get some data that is newer than the dataset and see if it holds up.\n",
    "(Dataset goes up to 2020)"
   ]
  },
  {
   "cell_type": "code",
   "execution_count": 25,
   "metadata": {},
   "outputs": [
    {
     "data": {
      "text/html": [
       "<div>\n",
       "<style scoped>\n",
       "    .dataframe tbody tr th:only-of-type {\n",
       "        vertical-align: middle;\n",
       "    }\n",
       "\n",
       "    .dataframe tbody tr th {\n",
       "        vertical-align: top;\n",
       "    }\n",
       "\n",
       "    .dataframe thead th {\n",
       "        text-align: right;\n",
       "    }\n",
       "</style>\n",
       "<table border=\"1\" class=\"dataframe\">\n",
       "  <thead>\n",
       "    <tr style=\"text-align: right;\">\n",
       "      <th></th>\n",
       "      <th>km_driven</th>\n",
       "      <th>seats</th>\n",
       "      <th>mileage</th>\n",
       "      <th>engine</th>\n",
       "      <th>max_power</th>\n",
       "      <th>nm</th>\n",
       "      <th>selling_price</th>\n",
       "      <th>fuel</th>\n",
       "    </tr>\n",
       "  </thead>\n",
       "  <tbody>\n",
       "    <tr>\n",
       "      <th>0</th>\n",
       "      <td>145500</td>\n",
       "      <td>5.0</td>\n",
       "      <td>23.4</td>\n",
       "      <td>1248</td>\n",
       "      <td>74.0</td>\n",
       "      <td>190.0</td>\n",
       "      <td>450000</td>\n",
       "      <td>0</td>\n",
       "    </tr>\n",
       "  </tbody>\n",
       "</table>\n",
       "</div>"
      ],
      "text/plain": [
       "   km_driven  seats  mileage  engine  max_power     nm  selling_price  fuel\n",
       "0     145500    5.0     23.4    1248       74.0  190.0         450000     0"
      ]
     },
     "execution_count": 25,
     "metadata": {},
     "output_type": "execute_result"
    }
   ],
   "source": [
    "dataset.head(1)"
   ]
  },
  {
   "cell_type": "code",
   "execution_count": 26,
   "metadata": {},
   "outputs": [],
   "source": [
    "predictions = []\n",
    "\n",
    "def append(car, actual, predicted):\n",
    "    predictions.append([actual, \"Petrol\" if predicted > 0.5 else \"Diesel\", car])"
   ]
  },
  {
   "cell_type": "code",
   "execution_count": 27,
   "metadata": {},
   "outputs": [],
   "source": [
    "# Data from https://www.cardekho.com/used-car-details/used-BMW-7-Series-740Li-DPE-Signature-cars-New-Delhi_2DE7F9C50F867CD984ED8E8C3204DAEB.htm\n",
    "car = \"2021 BMW 7 Series\"\n",
    "actual = \"Petrol\"\n",
    "result = ann_class.predict(std_scaler.transform([[11000, 5, 11.86, 2998, 335.2, 450, 12500000]]))\n",
    "append(car, actual, result[0][0])\n",
    "\n",
    "# Data from https://www.cardekho.com/buy-used-car-details/used-Maruti-Swift-Dzire-Amt-Zdi-cars-New-Delhi_4c983a6b-42aa-430a-88c9-7e0b5aeceba2.htm\n",
    "car = \"2016 Maruti Swift Dzire\"\n",
    "actual = \"Diesel\"\n",
    "result = ann_class.predict(std_scaler.transform([[78192, 5, 26.59, 1248, 74, 190, 549500]]))\n",
    "append(car, actual, result[0][0])\n",
    "\n",
    "# Data from https://www.cardekho.com/used-car-details/used-Audi-Q5-2012-2017-2.0-TDI-Premium-Plus-cars-New-Delhi_8CF8185D79A93CEF20D03BDF858DBFBE.htm\n",
    "car = \"2013 Audi Q5\"\n",
    "actual = \"Diesel\"\n",
    "result = ann_class.predict(std_scaler.transform([[60000, 5, 14.16, 1968, 174.3, 380, 1430000]]))\n",
    "append(car, actual, result[0][0])\n",
    "\n",
    "# Data from https://www.cardekho.com/buy-used-car-details/used-Hyundai-I20-Magna-1.2-cars-New-Delhi_9ed4c70a-3930-4c97-84d9-8c261c401c20.htm\n",
    "car = \"2015 Hyundai i20\"\n",
    "actual = \"Petrol\"\n",
    "result = ann_class.predict(std_scaler.transform([[70296, 5, 18.6, 1197, 81.83, 114.7, 435000]]))\n",
    "append(car, actual, result[0][0])\n",
    "\n",
    "# Data from https://www.cardekho.com/buy-used-car-details/used-Mahindra-Xuv300-W6-Diesel-cars-New-Delhi_6ef1d552-3d68-4120-a61e-9fbb7570103c.htm\n",
    "car = \"2019 Mahindra XUV300\"\n",
    "actual = \"Diesel\"\n",
    "result = ann_class.predict(std_scaler.transform([[71786, 5, 20, 1497, 115, 300, 765000]]))\n",
    "append(car, actual, result[0][0])\n"
   ]
  },
  {
   "cell_type": "code",
   "execution_count": 28,
   "metadata": {},
   "outputs": [
    {
     "name": "stdout",
     "output_type": "stream",
     "text": [
      "['Actual', 'Predictions', 'Car']\n",
      "['Petrol', 'Petrol', '2021 BMW 7 Series']\n",
      "['Diesel', 'Diesel', '2016 Maruti Swift Dzire']\n",
      "['Diesel', 'Diesel', '2013 Audi Q5']\n",
      "['Petrol', 'Petrol', '2015 Hyundai i20']\n",
      "['Diesel', 'Diesel', '2019 Mahindra XUV300']\n"
     ]
    }
   ],
   "source": [
    "print([\"Actual\", \"Predictions\", \"Car\"])\n",
    "for i in range(len(predictions)):\n",
    "    print(predictions[i])"
   ]
  },
  {
   "cell_type": "markdown",
   "metadata": {},
   "source": [
    "5 for 5 perfect predictions on the real world data. The model is working as hoped and expected. I think this wraps it up nicely."
   ]
  },
  {
   "cell_type": "markdown",
   "metadata": {},
   "source": [
    "## Summary of the final model"
   ]
  },
  {
   "cell_type": "markdown",
   "metadata": {},
   "source": [
    "After having determined that an artificial neural network is the best model for this problem, I decided to test it on some real world data. And as expected it performed to perfection. I think this is a good model for this problem.\n",
    "\n",
    "The results of the model were:\n",
    "\n",
    "Accuracy: 100%\n",
    "\n",
    "Confusion Matrix:\n",
    "\n",
    "[100%, 0%] - True Positive - False Positive\n",
    "\n",
    "[0%, 100%] - False Negative - True Negative\n",
    "\n",
    "In other words: The model is 100% accurate"
   ]
  }
 ],
 "metadata": {
  "interpreter": {
   "hash": "25f971c2cafb0dc8fb6f5f8a60e926e23560cd8dfda90ca9ec85ba330e83d562"
  },
  "kernelspec": {
   "display_name": "Python 3.9.9 64-bit (windows store)",
   "language": "python",
   "name": "python3"
  },
  "language_info": {
   "codemirror_mode": {
    "name": "ipython",
    "version": 3
   },
   "file_extension": ".py",
   "mimetype": "text/x-python",
   "name": "python",
   "nbconvert_exporter": "python",
   "pygments_lexer": "ipython3",
   "version": "3.9.9"
  },
  "orig_nbformat": 4
 },
 "nbformat": 4,
 "nbformat_minor": 2
}
