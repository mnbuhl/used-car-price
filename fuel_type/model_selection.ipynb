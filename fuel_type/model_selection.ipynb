{
 "cells": [
  {
   "cell_type": "markdown",
   "metadata": {},
   "source": [
    "# Selecting the best model for classifying the fuel type"
   ]
  },
  {
   "cell_type": "markdown",
   "metadata": {},
   "source": [
    "### Importing the standard libraries"
   ]
  },
  {
   "cell_type": "code",
   "execution_count": 1,
   "metadata": {},
   "outputs": [],
   "source": [
    "import numpy as np\n",
    "import pandas as pd\n",
    "import matplotlib.pyplot as plt"
   ]
  },
  {
   "cell_type": "markdown",
   "metadata": {},
   "source": [
    "### Importing the dataset"
   ]
  },
  {
   "cell_type": "code",
   "execution_count": 2,
   "metadata": {},
   "outputs": [],
   "source": [
    "dataset = pd.read_csv('../assets/car-details-for-ml.csv')"
   ]
  },
  {
   "cell_type": "markdown",
   "metadata": {},
   "source": [
    "Moving the dependent variable to the end of the dataset and dropping irrelevant columns."
   ]
  },
  {
   "cell_type": "code",
   "execution_count": 3,
   "metadata": {},
   "outputs": [
    {
     "data": {
      "text/html": [
       "<div>\n",
       "<style scoped>\n",
       "    .dataframe tbody tr th:only-of-type {\n",
       "        vertical-align: middle;\n",
       "    }\n",
       "\n",
       "    .dataframe tbody tr th {\n",
       "        vertical-align: top;\n",
       "    }\n",
       "\n",
       "    .dataframe thead th {\n",
       "        text-align: right;\n",
       "    }\n",
       "</style>\n",
       "<table border=\"1\" class=\"dataframe\">\n",
       "  <thead>\n",
       "    <tr style=\"text-align: right;\">\n",
       "      <th></th>\n",
       "      <th>km_driven</th>\n",
       "      <th>seats</th>\n",
       "      <th>mileage</th>\n",
       "      <th>engine</th>\n",
       "      <th>max_power</th>\n",
       "      <th>nm</th>\n",
       "      <th>selling_price</th>\n",
       "      <th>fuel</th>\n",
       "    </tr>\n",
       "  </thead>\n",
       "  <tbody>\n",
       "    <tr>\n",
       "      <th>0</th>\n",
       "      <td>145500</td>\n",
       "      <td>5.0</td>\n",
       "      <td>23.40</td>\n",
       "      <td>1248</td>\n",
       "      <td>74.00</td>\n",
       "      <td>190.00</td>\n",
       "      <td>450000</td>\n",
       "      <td>0</td>\n",
       "    </tr>\n",
       "    <tr>\n",
       "      <th>1</th>\n",
       "      <td>120000</td>\n",
       "      <td>5.0</td>\n",
       "      <td>21.14</td>\n",
       "      <td>1498</td>\n",
       "      <td>103.52</td>\n",
       "      <td>250.00</td>\n",
       "      <td>370000</td>\n",
       "      <td>0</td>\n",
       "    </tr>\n",
       "    <tr>\n",
       "      <th>2</th>\n",
       "      <td>140000</td>\n",
       "      <td>5.0</td>\n",
       "      <td>17.70</td>\n",
       "      <td>1497</td>\n",
       "      <td>78.00</td>\n",
       "      <td>124.54</td>\n",
       "      <td>158000</td>\n",
       "      <td>1</td>\n",
       "    </tr>\n",
       "    <tr>\n",
       "      <th>3</th>\n",
       "      <td>127000</td>\n",
       "      <td>5.0</td>\n",
       "      <td>23.00</td>\n",
       "      <td>1396</td>\n",
       "      <td>90.00</td>\n",
       "      <td>219.67</td>\n",
       "      <td>225000</td>\n",
       "      <td>0</td>\n",
       "    </tr>\n",
       "    <tr>\n",
       "      <th>4</th>\n",
       "      <td>120000</td>\n",
       "      <td>5.0</td>\n",
       "      <td>16.10</td>\n",
       "      <td>1298</td>\n",
       "      <td>88.20</td>\n",
       "      <td>112.78</td>\n",
       "      <td>130000</td>\n",
       "      <td>1</td>\n",
       "    </tr>\n",
       "  </tbody>\n",
       "</table>\n",
       "</div>"
      ],
      "text/plain": [
       "   km_driven  seats  mileage  engine  max_power      nm  selling_price  fuel\n",
       "0     145500    5.0    23.40    1248      74.00  190.00         450000     0\n",
       "1     120000    5.0    21.14    1498     103.52  250.00         370000     0\n",
       "2     140000    5.0    17.70    1497      78.00  124.54         158000     1\n",
       "3     127000    5.0    23.00    1396      90.00  219.67         225000     0\n",
       "4     120000    5.0    16.10    1298      88.20  112.78         130000     1"
      ]
     },
     "execution_count": 3,
     "metadata": {},
     "output_type": "execute_result"
    }
   ],
   "source": [
    "selling_price = dataset.pop('selling_price')\n",
    "\n",
    "dataset = dataset.iloc[:, :11]\n",
    "dataset.insert(len(dataset.columns), 'selling_price', selling_price)\n",
    "\n",
    "dep_variable = dataset.pop('fuel')\n",
    "dataset.insert(len(dataset.columns), 'fuel', dep_variable)\n",
    "\n",
    "dataset = dataset.drop(columns=['year', 'owner', 'transmission', 'seller_type'], axis=1)\n",
    "\n",
    "dataset.head()"
   ]
  },
  {
   "cell_type": "markdown",
   "metadata": {},
   "source": [
    "### Exporting the dataset for doing machine learning on the fuel types"
   ]
  },
  {
   "cell_type": "code",
   "execution_count": 5,
   "metadata": {},
   "outputs": [],
   "source": [
    "dataset.to_csv('../assets/car-details-for-ml-fuel-types.csv', index=False)"
   ]
  },
  {
   "cell_type": "markdown",
   "metadata": {},
   "source": [
    "### Splitting data to train and test sets"
   ]
  },
  {
   "cell_type": "code",
   "execution_count": 63,
   "metadata": {},
   "outputs": [],
   "source": [
    "X = dataset.iloc[:, :-1].values\n",
    "y = dataset.iloc[:, -1].values"
   ]
  },
  {
   "cell_type": "code",
   "execution_count": 64,
   "metadata": {},
   "outputs": [],
   "source": [
    "from sklearn.model_selection import train_test_split\n",
    "\n",
    "X_train, X_test, y_train, y_test = train_test_split(X, y, test_size=0.2, shuffle=True, random_state=73)"
   ]
  },
  {
   "cell_type": "markdown",
   "metadata": {},
   "source": [
    "### Feature scaling the data\n",
    "\n",
    "Some of the models might require the features to be scaled. Feature scaling is a common practice in machine learning and helps to normalize the features because some models are sensitive to the scale."
   ]
  },
  {
   "cell_type": "code",
   "execution_count": 65,
   "metadata": {},
   "outputs": [
    {
     "name": "stdout",
     "output_type": "stream",
     "text": [
      "[[-0.23 -0.45  0.59 -0.9  -0.7  -0.98 -0.64]]\n",
      "[[-1.02 -0.45 -0.38  1.05  3.04  2.62  5.11]]\n"
     ]
    }
   ],
   "source": [
    "from sklearn.preprocessing import StandardScaler\n",
    "\n",
    "std_scaler = StandardScaler()\n",
    "\n",
    "X_train_scaled = std_scaler.fit_transform(X_train)\n",
    "X_test_scaled = std_scaler.transform(X_test)\n",
    "\n",
    "# Sample the scaled values\n",
    "print(X_train_scaled[:1, :12])\n",
    "print(X_test_scaled[:1, :12])"
   ]
  },
  {
   "cell_type": "markdown",
   "metadata": {},
   "source": [
    "### Defining methods for helping to evaluate the models"
   ]
  },
  {
   "cell_type": "code",
   "execution_count": 66,
   "metadata": {},
   "outputs": [],
   "source": [
    "from sklearn.metrics import confusion_matrix, accuracy_score\n",
    "\n",
    "# Confusion Matrix = Makes a matrix of the predictions and actual values \n",
    "# Accuracy score = Percentage of correct predictions\n",
    "\n",
    "labels = ['Model', 'Accuracy', 'Confusion Matrix']\n",
    "results = []\n",
    "\n",
    "def model_evaluation(model: str, y_test, y_pred):\n",
    "    accuracy = accuracy_score(y_test, y_pred)\n",
    "    cm = confusion_matrix(y_test, y_pred)\n",
    "\n",
    "    results.append([model, accuracy, cm])\n",
    "    return [model, accuracy, cm]"
   ]
  },
  {
   "cell_type": "code",
   "execution_count": 67,
   "metadata": {},
   "outputs": [],
   "source": [
    "def print_actual_vs_predictions(y_test, y_pred):\n",
    "    np.set_printoptions(precision=2)\n",
    "    actual_vs_pred = np.concatenate((y_test.reshape(len(y_test), 1), y_pred.reshape(len(y_pred), 1)), 1)\n",
    "\n",
    "    print([\"Actual\", \"Predictions\"])\n",
    "    print(actual_vs_pred[4:12])"
   ]
  },
  {
   "cell_type": "markdown",
   "metadata": {},
   "source": [
    "### Splitting data to train and test sets"
   ]
  },
  {
   "cell_type": "markdown",
   "metadata": {},
   "source": [
    "## Logistic Regression Classification"
   ]
  },
  {
   "cell_type": "code",
   "execution_count": 68,
   "metadata": {},
   "outputs": [
    {
     "data": {
      "text/plain": [
       "LogisticRegression(random_state=73)"
      ]
     },
     "execution_count": 68,
     "metadata": {},
     "output_type": "execute_result"
    }
   ],
   "source": [
    "from sklearn.linear_model import LogisticRegression\n",
    "\n",
    "log_reg = LogisticRegression(random_state=73)\n",
    "log_reg.fit(X_train_scaled, y_train)"
   ]
  },
  {
   "cell_type": "code",
   "execution_count": 69,
   "metadata": {},
   "outputs": [
    {
     "name": "stdout",
     "output_type": "stream",
     "text": [
      "['Actual', 'Predictions']\n",
      "[[0 0]\n",
      " [0 0]\n",
      " [1 1]\n",
      " [1 1]\n",
      " [0 0]\n",
      " [1 1]\n",
      " [1 1]\n",
      " [0 0]]\n"
     ]
    }
   ],
   "source": [
    "y_pred = log_reg.predict(X_test_scaled)\n",
    "\n",
    "print_actual_vs_predictions(y_test, y_pred)"
   ]
  },
  {
   "cell_type": "code",
   "execution_count": 70,
   "metadata": {},
   "outputs": [
    {
     "name": "stdout",
     "output_type": "stream",
     "text": [
      "Model : Logistic Regression\n",
      "Accuracy : 0.9915254237288136\n",
      "Confusion Matrix :\n",
      " [[858   8]\n",
      " [  5 663]]\n"
     ]
    }
   ],
   "source": [
    "log_reg_result = model_evaluation('Logistic Regression', y_test, y_pred)\n",
    "\n",
    "for i in range(len(log_reg_result)):\n",
    "    if (labels[i] == \"Confusion Matrix\"):\n",
    "        print(labels[i], ':\\n', log_reg_result[i])\n",
    "    else:\n",
    "        print(labels[i], ':', log_reg_result[i])"
   ]
  },
  {
   "cell_type": "markdown",
   "metadata": {},
   "source": [
    "Already yielding fantastic results from the first model used. Only misclassifying 0.8% of the data. Let's try and get 0% misclassification rate."
   ]
  },
  {
   "cell_type": "markdown",
   "metadata": {},
   "source": [
    "## K-Nearest Neighbors Classification"
   ]
  },
  {
   "cell_type": "code",
   "execution_count": 71,
   "metadata": {},
   "outputs": [
    {
     "data": {
      "text/plain": [
       "KNeighborsClassifier(n_neighbors=3)"
      ]
     },
     "execution_count": 71,
     "metadata": {},
     "output_type": "execute_result"
    }
   ],
   "source": [
    "from sklearn.neighbors import KNeighborsClassifier\n",
    "\n",
    "knn_class = KNeighborsClassifier(n_neighbors=3, algorithm=\"auto\")\n",
    "knn_class.fit(X_train_scaled, y_train)"
   ]
  },
  {
   "cell_type": "code",
   "execution_count": 72,
   "metadata": {},
   "outputs": [
    {
     "name": "stdout",
     "output_type": "stream",
     "text": [
      "['Actual', 'Predictions']\n",
      "[[0 0]\n",
      " [0 0]\n",
      " [1 1]\n",
      " [1 1]\n",
      " [0 0]\n",
      " [1 1]\n",
      " [1 1]\n",
      " [0 0]]\n"
     ]
    }
   ],
   "source": [
    "y_pred = knn_class.predict(X_test_scaled)\n",
    "\n",
    "print_actual_vs_predictions(y_test, y_pred)"
   ]
  },
  {
   "cell_type": "code",
   "execution_count": 73,
   "metadata": {},
   "outputs": [
    {
     "name": "stdout",
     "output_type": "stream",
     "text": [
      "Model : K-Nearest Neighbors Classification\n",
      "Accuracy : 0.9954367666232073\n",
      "Confusion Matrix :\n",
      " [[864   2]\n",
      " [  5 663]]\n"
     ]
    }
   ],
   "source": [
    "knn_class_result = model_evaluation('K-Nearest Neighbors Classification', y_test, y_pred)\n",
    "\n",
    "for i in range(len(knn_class_result)):\n",
    "    if (labels[i] == \"Confusion Matrix\"):\n",
    "        print(labels[i], ':\\n', knn_class_result[i])\n",
    "    else:\n",
    "        print(labels[i], ':', knn_class_result[i])"
   ]
  },
  {
   "cell_type": "markdown",
   "metadata": {},
   "source": [
    "Getting even closer towards 0% misclassification rate. However the model is still about 0.5% off. I think we can try another model to get a better result."
   ]
  },
  {
   "cell_type": "markdown",
   "metadata": {},
   "source": [
    "## Decision Tree Classification"
   ]
  },
  {
   "cell_type": "code",
   "execution_count": 74,
   "metadata": {},
   "outputs": [
    {
     "data": {
      "text/plain": [
       "DecisionTreeClassifier(random_state=73)"
      ]
     },
     "execution_count": 74,
     "metadata": {},
     "output_type": "execute_result"
    }
   ],
   "source": [
    "from sklearn.tree import DecisionTreeClassifier\n",
    "\n",
    "tree_class = DecisionTreeClassifier( random_state = 73)\n",
    "tree_class.fit(X_train_scaled, y_train)"
   ]
  },
  {
   "cell_type": "code",
   "execution_count": 75,
   "metadata": {},
   "outputs": [
    {
     "name": "stdout",
     "output_type": "stream",
     "text": [
      "['Actual', 'Predictions']\n",
      "[[0 0]\n",
      " [0 0]\n",
      " [1 1]\n",
      " [1 1]\n",
      " [0 0]\n",
      " [1 1]\n",
      " [1 1]\n",
      " [0 0]]\n"
     ]
    }
   ],
   "source": [
    "y_pred = tree_class.predict(X_test_scaled)\n",
    "\n",
    "print_actual_vs_predictions(y_test, y_pred)"
   ]
  },
  {
   "cell_type": "code",
   "execution_count": 76,
   "metadata": {},
   "outputs": [
    {
     "name": "stdout",
     "output_type": "stream",
     "text": [
      "Model : Decision Tree Classification\n",
      "Accuracy : 0.9986962190352021\n",
      "Confusion Matrix :\n",
      " [[864   2]\n",
      " [  0 668]]\n"
     ]
    }
   ],
   "source": [
    "tree_class_result = model_evaluation('Decision Tree Classification', y_test, y_pred)\n",
    "\n",
    "for i in range(len(tree_class_result)):\n",
    "    if (labels[i] == \"Confusion Matrix\"):\n",
    "        print(labels[i], ':\\n', tree_class_result[i])\n",
    "    else:\n",
    "        print(labels[i], ':', tree_class_result[i])"
   ]
  },
  {
   "cell_type": "markdown",
   "metadata": {},
   "source": [
    "So close to 0% misclassification rate. Missing the mark by 1 wrong prediction. Let's try Random Forest Classification and see if we can get 0%."
   ]
  },
  {
   "cell_type": "markdown",
   "metadata": {},
   "source": [
    "## Random Forest Classification"
   ]
  },
  {
   "cell_type": "code",
   "execution_count": 77,
   "metadata": {},
   "outputs": [
    {
     "data": {
      "text/plain": [
       "RandomForestClassifier(criterion='entropy', n_estimators=10, random_state=73)"
      ]
     },
     "execution_count": 77,
     "metadata": {},
     "output_type": "execute_result"
    }
   ],
   "source": [
    "from sklearn.ensemble import RandomForestClassifier\n",
    "\n",
    "forest_class = RandomForestClassifier(n_estimators=10, random_state=73, criterion=\"entropy\")\n",
    "forest_class.fit(X_train_scaled, y_train)"
   ]
  },
  {
   "cell_type": "code",
   "execution_count": 78,
   "metadata": {},
   "outputs": [
    {
     "name": "stdout",
     "output_type": "stream",
     "text": [
      "['Actual', 'Predictions']\n",
      "[[0 0]\n",
      " [0 0]\n",
      " [1 1]\n",
      " [1 1]\n",
      " [0 0]\n",
      " [1 1]\n",
      " [1 1]\n",
      " [0 0]]\n"
     ]
    }
   ],
   "source": [
    "y_pred = forest_class.predict(X_test_scaled)\n",
    "\n",
    "print_actual_vs_predictions(y_test, y_pred)"
   ]
  },
  {
   "cell_type": "code",
   "execution_count": 79,
   "metadata": {},
   "outputs": [
    {
     "name": "stdout",
     "output_type": "stream",
     "text": [
      "Model : Random Forest Classification\n",
      "Accuracy : 0.999348109517601\n",
      "Confusion Matrix :\n",
      " [[866   0]\n",
      " [  1 667]]\n"
     ]
    }
   ],
   "source": [
    "forest_class_result = model_evaluation('Random Forest Classification', y_test, y_pred)\n",
    "\n",
    "for i in range(len(forest_class_result)):\n",
    "    if (labels[i] == \"Confusion Matrix\"):\n",
    "        print(labels[i], ':\\n', forest_class_result[i])\n",
    "    else:\n",
    "        print(labels[i], ':', forest_class_result[i])"
   ]
  },
  {
   "cell_type": "markdown",
   "metadata": {},
   "source": [
    "Again missing the mark by just 1 wrong prediction. This time in False Negative instead of False Positive section. Let's try a different model and get the 0% misclassification rate."
   ]
  },
  {
   "cell_type": "markdown",
   "metadata": {},
   "source": [
    "## Artificial Neural Network Classification"
   ]
  },
  {
   "cell_type": "code",
   "execution_count": 80,
   "metadata": {},
   "outputs": [],
   "source": [
    "import tensorflow as tf\n",
    "from tensorflow.python.keras.api import keras\n",
    "\n",
    "tf.random.set_seed(73)\n",
    "np.random.seed(73)\n",
    "keras.backend.clear_session()\n",
    "\n",
    "ann_class = keras.models.Sequential()\n",
    "\n",
    "ann_class.add(keras.layers.Dense(25, activation='relu', input_shape=(len(X[0]),)))\n",
    "ann_class.add(keras.layers.Dense(10, activation='relu'))\n",
    "ann_class.add(keras.layers.Dense(1, activation='sigmoid'))\n",
    "\n",
    "ann_class.compile(optimizer='adam', loss='binary_crossentropy', metrics=['accuracy'])"
   ]
  },
  {
   "cell_type": "code",
   "execution_count": 81,
   "metadata": {},
   "outputs": [
    {
     "name": "stdout",
     "output_type": "stream",
     "text": [
      "Epoch 1/100\n",
      "192/192 [==============================] - 0s 592us/step - loss: 0.4811 - accuracy: 0.7803\n",
      "Epoch 2/100\n",
      "192/192 [==============================] - 0s 559us/step - loss: 0.1459 - accuracy: 0.9617\n",
      "Epoch 3/100\n",
      "192/192 [==============================] - 0s 560us/step - loss: 0.0633 - accuracy: 0.9826\n",
      "Epoch 4/100\n",
      "192/192 [==============================] - 0s 539us/step - loss: 0.0346 - accuracy: 0.9899\n",
      "Epoch 5/100\n",
      "192/192 [==============================] - 0s 581us/step - loss: 0.0238 - accuracy: 0.9928\n",
      "Epoch 6/100\n",
      "192/192 [==============================] - 0s 592us/step - loss: 0.0193 - accuracy: 0.9940\n",
      "Epoch 7/100\n",
      "192/192 [==============================] - 0s 570us/step - loss: 0.0174 - accuracy: 0.9948\n",
      "Epoch 8/100\n",
      "192/192 [==============================] - 0s 563us/step - loss: 0.0160 - accuracy: 0.9945\n",
      "Epoch 9/100\n",
      "192/192 [==============================] - 0s 555us/step - loss: 0.0149 - accuracy: 0.9954\n",
      "Epoch 10/100\n",
      "192/192 [==============================] - 0s 529us/step - loss: 0.0144 - accuracy: 0.9959\n",
      "Epoch 11/100\n",
      "192/192 [==============================] - 0s 534us/step - loss: 0.0134 - accuracy: 0.9961\n",
      "Epoch 12/100\n",
      "192/192 [==============================] - 0s 565us/step - loss: 0.0131 - accuracy: 0.9967\n",
      "Epoch 13/100\n",
      "192/192 [==============================] - 0s 555us/step - loss: 0.0128 - accuracy: 0.9963\n",
      "Epoch 14/100\n",
      "192/192 [==============================] - 0s 529us/step - loss: 0.0122 - accuracy: 0.9967\n",
      "Epoch 15/100\n",
      "192/192 [==============================] - 0s 513us/step - loss: 0.0118 - accuracy: 0.9979\n",
      "Epoch 16/100\n",
      "192/192 [==============================] - 0s 518us/step - loss: 0.0118 - accuracy: 0.9974\n",
      "Epoch 17/100\n",
      "192/192 [==============================] - 0s 524us/step - loss: 0.0114 - accuracy: 0.9976\n",
      "Epoch 18/100\n",
      "192/192 [==============================] - 0s 539us/step - loss: 0.0111 - accuracy: 0.9979\n",
      "Epoch 19/100\n",
      "192/192 [==============================] - 0s 539us/step - loss: 0.0110 - accuracy: 0.9971\n",
      "Epoch 20/100\n",
      "192/192 [==============================] - 0s 550us/step - loss: 0.0108 - accuracy: 0.9977\n",
      "Epoch 21/100\n",
      "192/192 [==============================] - 0s 550us/step - loss: 0.0104 - accuracy: 0.9980\n",
      "Epoch 22/100\n",
      "192/192 [==============================] - 0s 545us/step - loss: 0.0101 - accuracy: 0.9979\n",
      "Epoch 23/100\n",
      "192/192 [==============================] - 0s 571us/step - loss: 0.0097 - accuracy: 0.9985\n",
      "Epoch 24/100\n",
      "192/192 [==============================] - 0s 566us/step - loss: 0.0097 - accuracy: 0.9982\n",
      "Epoch 25/100\n",
      "192/192 [==============================] - 0s 576us/step - loss: 0.0095 - accuracy: 0.9980\n",
      "Epoch 26/100\n",
      "192/192 [==============================] - 0s 571us/step - loss: 0.0093 - accuracy: 0.9980\n",
      "Epoch 27/100\n",
      "192/192 [==============================] - 0s 565us/step - loss: 0.0094 - accuracy: 0.9982\n",
      "Epoch 28/100\n",
      "192/192 [==============================] - 0s 576us/step - loss: 0.0090 - accuracy: 0.9984\n",
      "Epoch 29/100\n",
      "192/192 [==============================] - 0s 560us/step - loss: 0.0088 - accuracy: 0.9982\n",
      "Epoch 30/100\n",
      "192/192 [==============================] - 0s 565us/step - loss: 0.0085 - accuracy: 0.9985\n",
      "Epoch 31/100\n",
      "192/192 [==============================] - 0s 576us/step - loss: 0.0084 - accuracy: 0.9985\n",
      "Epoch 32/100\n",
      "192/192 [==============================] - 0s 602us/step - loss: 0.0082 - accuracy: 0.9982\n",
      "Epoch 33/100\n",
      "192/192 [==============================] - 0s 576us/step - loss: 0.0081 - accuracy: 0.9989\n",
      "Epoch 34/100\n",
      "192/192 [==============================] - 0s 634us/step - loss: 0.0080 - accuracy: 0.9985\n",
      "Epoch 35/100\n",
      "192/192 [==============================] - 0s 560us/step - loss: 0.0078 - accuracy: 0.9985\n",
      "Epoch 36/100\n",
      "192/192 [==============================] - 0s 597us/step - loss: 0.0078 - accuracy: 0.9987\n",
      "Epoch 37/100\n",
      "192/192 [==============================] - 0s 605us/step - loss: 0.0075 - accuracy: 0.9984\n",
      "Epoch 38/100\n",
      "192/192 [==============================] - 0s 575us/step - loss: 0.0076 - accuracy: 0.9985\n",
      "Epoch 39/100\n",
      "192/192 [==============================] - 0s 586us/step - loss: 0.0075 - accuracy: 0.9985\n",
      "Epoch 40/100\n",
      "192/192 [==============================] - 0s 607us/step - loss: 0.0071 - accuracy: 0.9987\n",
      "Epoch 41/100\n",
      "192/192 [==============================] - 0s 586us/step - loss: 0.0071 - accuracy: 0.9990\n",
      "Epoch 42/100\n",
      "192/192 [==============================] - 0s 586us/step - loss: 0.0069 - accuracy: 0.9989\n",
      "Epoch 43/100\n",
      "192/192 [==============================] - 0s 586us/step - loss: 0.0068 - accuracy: 0.9989\n",
      "Epoch 44/100\n",
      "192/192 [==============================] - 0s 555us/step - loss: 0.0068 - accuracy: 0.9987\n",
      "Epoch 45/100\n",
      "192/192 [==============================] - 0s 555us/step - loss: 0.0066 - accuracy: 0.9989\n",
      "Epoch 46/100\n",
      "192/192 [==============================] - 0s 576us/step - loss: 0.0066 - accuracy: 0.9989\n",
      "Epoch 47/100\n",
      "192/192 [==============================] - 0s 586us/step - loss: 0.0063 - accuracy: 0.9989\n",
      "Epoch 48/100\n",
      "192/192 [==============================] - 0s 581us/step - loss: 0.0061 - accuracy: 0.9989\n",
      "Epoch 49/100\n",
      "192/192 [==============================] - 0s 571us/step - loss: 0.0061 - accuracy: 0.9990\n",
      "Epoch 50/100\n",
      "192/192 [==============================] - 0s 544us/step - loss: 0.0065 - accuracy: 0.9985\n",
      "Epoch 51/100\n",
      "192/192 [==============================] - 0s 539us/step - loss: 0.0058 - accuracy: 0.9989\n",
      "Epoch 52/100\n",
      "192/192 [==============================] - 0s 529us/step - loss: 0.0058 - accuracy: 0.9990\n",
      "Epoch 53/100\n",
      "192/192 [==============================] - 0s 536us/step - loss: 0.0056 - accuracy: 0.9990\n",
      "Epoch 54/100\n",
      "192/192 [==============================] - 0s 539us/step - loss: 0.0057 - accuracy: 0.9990\n",
      "Epoch 55/100\n",
      "192/192 [==============================] - 0s 550us/step - loss: 0.0054 - accuracy: 0.9990\n",
      "Epoch 56/100\n",
      "192/192 [==============================] - 0s 602us/step - loss: 0.0054 - accuracy: 0.9989\n",
      "Epoch 57/100\n",
      "192/192 [==============================] - 0s 571us/step - loss: 0.0052 - accuracy: 0.9990\n",
      "Epoch 58/100\n",
      "192/192 [==============================] - 0s 592us/step - loss: 0.0051 - accuracy: 0.9989\n",
      "Epoch 59/100\n",
      "192/192 [==============================] - 0s 560us/step - loss: 0.0053 - accuracy: 0.9989\n",
      "Epoch 60/100\n",
      "192/192 [==============================] - 0s 560us/step - loss: 0.0049 - accuracy: 0.9989\n",
      "Epoch 61/100\n",
      "192/192 [==============================] - 0s 639us/step - loss: 0.0050 - accuracy: 0.9990\n",
      "Epoch 62/100\n",
      "192/192 [==============================] - 0s 550us/step - loss: 0.0047 - accuracy: 0.9990\n",
      "Epoch 63/100\n",
      "192/192 [==============================] - 0s 555us/step - loss: 0.0047 - accuracy: 0.9990\n",
      "Epoch 64/100\n",
      "192/192 [==============================] - 0s 565us/step - loss: 0.0045 - accuracy: 0.9990\n",
      "Epoch 65/100\n",
      "192/192 [==============================] - 0s 560us/step - loss: 0.0044 - accuracy: 0.9990\n",
      "Epoch 66/100\n",
      "192/192 [==============================] - 0s 550us/step - loss: 0.0043 - accuracy: 0.9992\n",
      "Epoch 67/100\n",
      "192/192 [==============================] - 0s 560us/step - loss: 0.0041 - accuracy: 0.9992\n",
      "Epoch 68/100\n",
      "192/192 [==============================] - 0s 550us/step - loss: 0.0040 - accuracy: 0.9989\n",
      "Epoch 69/100\n",
      "192/192 [==============================] - 0s 560us/step - loss: 0.0040 - accuracy: 0.9992\n",
      "Epoch 70/100\n",
      "192/192 [==============================] - 0s 545us/step - loss: 0.0040 - accuracy: 0.9990\n",
      "Epoch 71/100\n",
      "192/192 [==============================] - 0s 550us/step - loss: 0.0039 - accuracy: 0.9989\n",
      "Epoch 72/100\n",
      "192/192 [==============================] - 0s 539us/step - loss: 0.0036 - accuracy: 0.9989\n",
      "Epoch 73/100\n",
      "192/192 [==============================] - 0s 550us/step - loss: 0.0037 - accuracy: 0.9990\n",
      "Epoch 74/100\n",
      "192/192 [==============================] - 0s 550us/step - loss: 0.0034 - accuracy: 0.9992\n",
      "Epoch 75/100\n",
      "192/192 [==============================] - 0s 545us/step - loss: 0.0033 - accuracy: 0.9992\n",
      "Epoch 76/100\n",
      "192/192 [==============================] - 0s 534us/step - loss: 0.0032 - accuracy: 0.9992\n",
      "Epoch 77/100\n",
      "192/192 [==============================] - 0s 534us/step - loss: 0.0031 - accuracy: 0.9992\n",
      "Epoch 78/100\n",
      "192/192 [==============================] - 0s 550us/step - loss: 0.0030 - accuracy: 0.9992\n",
      "Epoch 79/100\n",
      "192/192 [==============================] - 0s 527us/step - loss: 0.0029 - accuracy: 0.9990\n",
      "Epoch 80/100\n",
      "192/192 [==============================] - 0s 546us/step - loss: 0.0029 - accuracy: 0.9990\n",
      "Epoch 81/100\n",
      "192/192 [==============================] - 0s 545us/step - loss: 0.0025 - accuracy: 0.9992\n",
      "Epoch 82/100\n",
      "192/192 [==============================] - 0s 550us/step - loss: 0.0025 - accuracy: 0.9992\n",
      "Epoch 83/100\n",
      "192/192 [==============================] - 0s 539us/step - loss: 0.0024 - accuracy: 0.9992\n",
      "Epoch 84/100\n",
      "192/192 [==============================] - 0s 529us/step - loss: 0.0024 - accuracy: 0.9992\n",
      "Epoch 85/100\n",
      "192/192 [==============================] - 0s 539us/step - loss: 0.0022 - accuracy: 0.9992\n",
      "Epoch 86/100\n",
      "192/192 [==============================] - 0s 607us/step - loss: 0.0020 - accuracy: 0.9992\n",
      "Epoch 87/100\n",
      "192/192 [==============================] - 0s 555us/step - loss: 0.0022 - accuracy: 0.9992\n",
      "Epoch 88/100\n",
      "192/192 [==============================] - 0s 545us/step - loss: 0.0019 - accuracy: 0.9992\n",
      "Epoch 89/100\n",
      "192/192 [==============================] - 0s 560us/step - loss: 0.0017 - accuracy: 0.9993\n",
      "Epoch 90/100\n",
      "192/192 [==============================] - 0s 555us/step - loss: 0.0017 - accuracy: 0.9993\n",
      "Epoch 91/100\n",
      "192/192 [==============================] - 0s 560us/step - loss: 0.0015 - accuracy: 0.9993\n",
      "Epoch 92/100\n",
      "192/192 [==============================] - 0s 555us/step - loss: 0.0014 - accuracy: 0.9997\n",
      "Epoch 93/100\n",
      "192/192 [==============================] - 0s 582us/step - loss: 0.0013 - accuracy: 0.9993\n",
      "Epoch 94/100\n",
      "192/192 [==============================] - 0s 571us/step - loss: 0.0014 - accuracy: 0.9997\n",
      "Epoch 95/100\n",
      "192/192 [==============================] - 0s 576us/step - loss: 0.0011 - accuracy: 0.9998\n",
      "Epoch 96/100\n",
      "192/192 [==============================] - 0s 571us/step - loss: 0.0011 - accuracy: 0.9998\n",
      "Epoch 97/100\n",
      "192/192 [==============================] - 0s 560us/step - loss: 0.0011 - accuracy: 0.9998\n",
      "Epoch 98/100\n",
      "192/192 [==============================] - 0s 550us/step - loss: 9.5384e-04 - accuracy: 0.9998\n",
      "Epoch 99/100\n",
      "192/192 [==============================] - 0s 561us/step - loss: 8.2294e-04 - accuracy: 1.0000\n",
      "Epoch 100/100\n",
      "192/192 [==============================] - 0s 550us/step - loss: 8.4527e-04 - accuracy: 0.9998\n"
     ]
    },
    {
     "data": {
      "text/plain": [
       "<tensorflow.python.keras.callbacks.History at 0x2b23add1400>"
      ]
     },
     "execution_count": 81,
     "metadata": {},
     "output_type": "execute_result"
    }
   ],
   "source": [
    "ann_class.fit(X_train_scaled, y_train, batch_size=32, epochs=100)"
   ]
  },
  {
   "cell_type": "code",
   "execution_count": 82,
   "metadata": {},
   "outputs": [
    {
     "name": "stdout",
     "output_type": "stream",
     "text": [
      "['Actual', 'Predictions']\n",
      "[[0 0]\n",
      " [0 0]\n",
      " [1 1]\n",
      " [1 1]\n",
      " [0 0]\n",
      " [1 1]\n",
      " [1 1]\n",
      " [0 0]]\n"
     ]
    }
   ],
   "source": [
    "y_pred = ann_class.predict(X_test_scaled)\n",
    "y_pred = (y_pred > 0.5)\n",
    "\n",
    "print_actual_vs_predictions(y_test, y_pred)"
   ]
  },
  {
   "cell_type": "code",
   "execution_count": 83,
   "metadata": {},
   "outputs": [
    {
     "name": "stdout",
     "output_type": "stream",
     "text": [
      "48/48 [==============================] - 0s 426us/step - loss: 0.0012 - accuracy: 1.0000\n"
     ]
    },
    {
     "data": {
      "text/plain": [
       "[0.0012070826487615705, 1.0]"
      ]
     },
     "execution_count": 83,
     "metadata": {},
     "output_type": "execute_result"
    }
   ],
   "source": [
    "ann_class.evaluate(X_test_scaled, y_test)"
   ]
  },
  {
   "cell_type": "code",
   "execution_count": 84,
   "metadata": {},
   "outputs": [
    {
     "name": "stdout",
     "output_type": "stream",
     "text": [
      "Model : Artificial Neural Network Classification\n",
      "Accuracy : 1.0\n",
      "Confusion Matrix :\n",
      " [[866   0]\n",
      " [  0 668]]\n"
     ]
    }
   ],
   "source": [
    "ann_class_result = model_evaluation('Artificial Neural Network Classification', y_test, y_pred)\n",
    "\n",
    "for i in range(len(ann_class_result)):\n",
    "    if (labels[i] == \"Confusion Matrix\"):\n",
    "        print(labels[i], ':\\n', ann_class_result[i])\n",
    "    else:\n",
    "        print(labels[i], ':', ann_class_result[i])"
   ]
  },
  {
   "cell_type": "markdown",
   "metadata": {},
   "source": [
    "There we go. A perfect score of 0% misclassification rate. This is the best model for classifying between the fuel types of the dataset. Time to compare the scores of the models."
   ]
  },
  {
   "cell_type": "markdown",
   "metadata": {},
   "source": [
    "## Model selection"
   ]
  },
  {
   "cell_type": "markdown",
   "metadata": {},
   "source": [
    "Now that the data has been through the candidate models, we can now evaluate the results and see which model is the best from the Accuracy and Confusion Matrix scores.\n",
    "\n",
    "First let's look at the scores of all the models."
   ]
  },
  {
   "cell_type": "code",
   "execution_count": 85,
   "metadata": {},
   "outputs": [
    {
     "name": "stdout",
     "output_type": "stream",
     "text": [
      "Model : Logistic Regression\n",
      "Accuracy : 0.9915254237288136\n",
      "Confusion Matrix :\n",
      " [[858   8]\n",
      " [  5 663]]\n",
      "\n",
      "Model : K-Nearest Neighbors Classification\n",
      "Accuracy : 0.9954367666232073\n",
      "Confusion Matrix :\n",
      " [[864   2]\n",
      " [  5 663]]\n",
      "\n",
      "Model : Decision Tree Classification\n",
      "Accuracy : 0.9986962190352021\n",
      "Confusion Matrix :\n",
      " [[864   2]\n",
      " [  0 668]]\n",
      "\n",
      "Model : Random Forest Classification\n",
      "Accuracy : 0.999348109517601\n",
      "Confusion Matrix :\n",
      " [[866   0]\n",
      " [  1 667]]\n",
      "\n",
      "Model : Artificial Neural Network Classification\n",
      "Accuracy : 1.0\n",
      "Confusion Matrix :\n",
      " [[866   0]\n",
      " [  0 668]]\n",
      "\n"
     ]
    }
   ],
   "source": [
    "for result in results:\n",
    "    for i in range(len(result)):\n",
    "        if (labels[i] == \"Confusion Matrix\"):\n",
    "            print(labels[i], ':\\n', result[i])\n",
    "        else:\n",
    "            print(labels[i], ':', result[i])\n",
    "    print()"
   ]
  },
  {
   "cell_type": "markdown",
   "metadata": {},
   "source": [
    "The standout is clearly the Artificial Neural Network Classification model with a perfect score of 100% accuracy and 0 misclassified data. Please refer to the final_validation notebook to see the selected model applied."
   ]
  }
 ],
 "metadata": {
  "interpreter": {
   "hash": "25f971c2cafb0dc8fb6f5f8a60e926e23560cd8dfda90ca9ec85ba330e83d562"
  },
  "kernelspec": {
   "display_name": "Python 3.9.9 64-bit (windows store)",
   "language": "python",
   "name": "python3"
  },
  "language_info": {
   "codemirror_mode": {
    "name": "ipython",
    "version": 3
   },
   "file_extension": ".py",
   "mimetype": "text/x-python",
   "name": "python",
   "nbconvert_exporter": "python",
   "pygments_lexer": "ipython3",
   "version": "3.9.9"
  },
  "orig_nbformat": 4
 },
 "nbformat": 4,
 "nbformat_minor": 2
}
